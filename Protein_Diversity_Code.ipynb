{
  "cells": [
    {
      "cell_type": "code",
      "source": [
        "pip install Bio"
      ],
      "metadata": {
        "colab": {
          "base_uri": "https://localhost:8080/"
        },
        "id": "DAnzVXL_vZV-",
        "outputId": "f42b19bf-d34b-45d3-f48f-7c0f089e744a"
      },
      "execution_count": null,
      "outputs": [
        {
          "output_type": "stream",
          "name": "stdout",
          "text": [
            "Requirement already satisfied: Bio in /usr/local/lib/python3.10/dist-packages (1.5.9)\n",
            "Requirement already satisfied: biopython>=1.80 in /usr/local/lib/python3.10/dist-packages (from Bio) (1.81)\n",
            "Requirement already satisfied: requests in /usr/local/lib/python3.10/dist-packages (from Bio) (2.31.0)\n",
            "Requirement already satisfied: tqdm in /usr/local/lib/python3.10/dist-packages (from Bio) (4.66.1)\n",
            "Requirement already satisfied: mygene in /usr/local/lib/python3.10/dist-packages (from Bio) (3.2.2)\n",
            "Requirement already satisfied: pandas in /usr/local/lib/python3.10/dist-packages (from Bio) (1.5.3)\n",
            "Requirement already satisfied: pooch in /usr/local/lib/python3.10/dist-packages (from Bio) (1.7.0)\n",
            "Requirement already satisfied: gprofiler-official in /usr/local/lib/python3.10/dist-packages (from Bio) (1.0.0)\n",
            "Requirement already satisfied: numpy in /usr/local/lib/python3.10/dist-packages (from biopython>=1.80->Bio) (1.23.5)\n",
            "Requirement already satisfied: biothings-client>=0.2.6 in /usr/local/lib/python3.10/dist-packages (from mygene->Bio) (0.3.0)\n",
            "Requirement already satisfied: python-dateutil>=2.8.1 in /usr/local/lib/python3.10/dist-packages (from pandas->Bio) (2.8.2)\n",
            "Requirement already satisfied: pytz>=2020.1 in /usr/local/lib/python3.10/dist-packages (from pandas->Bio) (2023.3.post1)\n",
            "Requirement already satisfied: platformdirs>=2.5.0 in /usr/local/lib/python3.10/dist-packages (from pooch->Bio) (3.10.0)\n",
            "Requirement already satisfied: packaging>=20.0 in /usr/local/lib/python3.10/dist-packages (from pooch->Bio) (23.1)\n",
            "Requirement already satisfied: charset-normalizer<4,>=2 in /usr/local/lib/python3.10/dist-packages (from requests->Bio) (3.2.0)\n",
            "Requirement already satisfied: idna<4,>=2.5 in /usr/local/lib/python3.10/dist-packages (from requests->Bio) (3.4)\n",
            "Requirement already satisfied: urllib3<3,>=1.21.1 in /usr/local/lib/python3.10/dist-packages (from requests->Bio) (2.0.4)\n",
            "Requirement already satisfied: certifi>=2017.4.17 in /usr/local/lib/python3.10/dist-packages (from requests->Bio) (2023.7.22)\n",
            "Requirement already satisfied: six>=1.5 in /usr/local/lib/python3.10/dist-packages (from python-dateutil>=2.8.1->pandas->Bio) (1.16.0)\n"
          ]
        }
      ]
    },
    {
      "cell_type": "code",
      "execution_count": null,
      "metadata": {
        "id": "YBM8GUOru9g8"
      },
      "outputs": [],
      "source": [
        "from Bio import SeqIO, AlignIO\n",
        "import math\n",
        "import pandas as pd\n",
        "import trace\n",
        "import glob\n",
        "import numpy as np\n",
        "AAs = ['A','C','D','E','F','G','H','I','K','L','M','N','P','Q','R','S','T','V','W','Y']"
      ]
    },
    {
      "cell_type": "code",
      "execution_count": null,
      "metadata": {
        "id": "GrZOYSntu9hA"
      },
      "outputs": [],
      "source": [
        "#take in a string of letters for a given site\n",
        "#return Shannon information for that site\n",
        "\n",
        "def shannon_info(site, AAs=AAs):\n",
        "\n",
        "    temp_info = 0\n",
        "\n",
        "    for aa in AAs:\n",
        "\n",
        "        if aa in site:\n",
        "\n",
        "            temp_info += site.count(aa)/len(site) * math.log2(site.count(aa)/len(site))\n",
        "\n",
        "    return abs(temp_info)"
      ]
    },
    {
      "cell_type": "code",
      "execution_count": null,
      "metadata": {
        "id": "vyBRYdpUu9hB"
      },
      "outputs": [],
      "source": [
        "#Von Neumann Entropy (density matrix) - used for Shannon Entropy calculations\n",
        "\n",
        "def vn_entropy(column,sub_matrix,matrix_label):\n",
        "\n",
        "    column_diag = np.zeros((sub_matrix.shape[0],sub_matrix.shape[0]))\n",
        "\n",
        "    for aa in matrix_label:\n",
        "        column_diag[matrix_label.index(aa),matrix_label.index(aa)] = column.count(aa) / len(column)\n",
        "\n",
        "    omega = column_diag * sub_matrix\n",
        "\n",
        "    entropy = - omega * vlog_20(omega)\n",
        "\n",
        "    return entropy.to_numpy().trace()"
      ]
    },
    {
      "cell_type": "code",
      "execution_count": null,
      "metadata": {
        "id": "ZreHCK2fu9hC"
      },
      "outputs": [],
      "source": [
        "LG_aa_order = ['A','R','N','D','C','Q','E','G','H','I','L','K','M','F','P','S','T','W','Y','V']\n",
        "B50_aa_order = ['A','R','N','D','C','Q','E','G','H','I','L','K','M','F','P','S','T','W','Y','V','B','J','Z','X','*']\n",
        "\n",
        "#choose substitution matrix:\n",
        "#original LG\n",
        "#LG = pd.read_csv(\"LG.csv\",header=0, index_col=0)\n",
        "#LG with bottom half (exclusive of the diagnal) proportions sum to 1\n",
        "#Don't use this, only inflates values\n",
        "#substitution_matrix = pd.read_csv(\"./protein_diversity/LG-1.csv\",header=0, index_col=0)\n",
        "\n",
        "B50 = pd.read_table(\"BLOSUM50.tab\",header=None,index_col=None,names=B50_aa_order)\n",
        "B50.set_index(pd.Series(B50_aa_order),inplace=True)"
      ]
    },
    {
      "cell_type": "code",
      "execution_count": null,
      "metadata": {
        "id": "bTbhoy_ku9hD"
      },
      "outputs": [],
      "source": [
        "max_freq = np.array([[0.05,0,0,0,0,0,0,0,0,0,0,0,0,0,0,0,0,0,0,0,0,0,0,0,0],\n",
        "                     [0,0.05,0,0,0,0,0,0,0,0,0,0,0,0,0,0,0,0,0,0,0,0,0,0,0],\n",
        "                     [0,0,0.05,0,0,0,0,0,0,0,0,0,0,0,0,0,0,0,0,0,0,0,0,0,0],\n",
        "                     [0,0,0,0.05,0,0,0,0,0,0,0,0,0,0,0,0,0,0,0,0,0,0,0,0,0],\n",
        "                     [0,0,0,0,0.05,0,0,0,0,0,0,0,0,0,0,0,0,0,0,0,0,0,0,0,0],\n",
        "                     [0,0,0,0,0,0.05,0,0,0,0,0,0,0,0,0,0,0,0,0,0,0,0,0,0,0],\n",
        "                     [0,0,0,0,0,0,0.05,0,0,0,0,0,0,0,0,0,0,0,0,0,0,0,0,0,0],\n",
        "                     [0,0,0,0,0,0,0,0.05,0,0,0,0,0,0,0,0,0,0,0,0,0,0,0,0,0],\n",
        "                     [0,0,0,0,0,0,0,0,0.05,0,0,0,0,0,0,0,0,0,0,0,0,0,0,0,0],\n",
        "                     [0,0,0,0,0,0,0,0,0,0.05,0,0,0,0,0,0,0,0,0,0,0,0,0,0,0],\n",
        "                     [0,0,0,0,0,0,0,0,0,0,0.05,0,0,0,0,0,0,0,0,0,0,0,0,0,0],\n",
        "                     [0,0,0,0,0,0,0,0,0,0,0,0.05,0,0,0,0,0,0,0,0,0,0,0,0,0],\n",
        "                     [0,0,0,0,0,0,0,0,0,0,0,0,0.05,0,0,0,0,0,0,0,0,0,0,0,0],\n",
        "                     [0,0,0,0,0,0,0,0,0,0,0,0,0,0.05,0,0,0,0,0,0,0,0,0,0,0],\n",
        "                     [0,0,0,0,0,0,0,0,0,0,0,0,0,0,0.05,0,0,0,0,0,0,0,0,0,0],\n",
        "                     [0,0,0,0,0,0,0,0,0,0,0,0,0,0,0,0.05,0,0,0,0,0,0,0,0,0],\n",
        "                     [0,0,0,0,0,0,0,0,0,0,0,0,0,0,0,0,0.05,0,0,0,0,0,0,0,0],\n",
        "                     [0,0,0,0,0,0,0,0,0,0,0,0,0,0,0,0,0,0.05,0,0,0,0,0,0,0],\n",
        "                     [0,0,0,0,0,0,0,0,0,0,0,0,0,0,0,0,0,0,0.05,0,0,0,0,0,0],\n",
        "                     [0,0,0,0,0,0,0,0,0,0,0,0,0,0,0,0,0,0,0,0.05,0,0,0,0,0],\n",
        "                     [0,0,0,0,0,0,0,0,0,0,0,0,0,0,0,0,0,0,0,0,0,0,0,0,0],\n",
        "                     [0,0,0,0,0,0,0,0,0,0,0,0,0,0,0,0,0,0,0,0,0,0,0,0,0],\n",
        "                     [0,0,0,0,0,0,0,0,0,0,0,0,0,0,0,0,0,0,0,0,0,0,0,0,0],\n",
        "                     [0,0,0,0,0,0,0,0,0,0,0,0,0,0,0,0,0,0,0,0,0,0,0,0,0],\n",
        "                     [0,0,0,0,0,0,0,0,0,0,0,0,0,0,0,0,0,0,0,0,0,0,0,0,0]])"
      ]
    },
    {
      "cell_type": "code",
      "execution_count": null,
      "metadata": {
        "id": "kWOhFTFlu9hE",
        "colab": {
          "base_uri": "https://localhost:8080/"
        },
        "outputId": "5e2726ea-102b-4c7e-803d-d1c97ec7b350"
      },
      "outputs": [
        {
          "output_type": "stream",
          "name": "stderr",
          "text": [
            "/usr/local/lib/python3.10/dist-packages/pandas/core/internals/blocks.py:351: RuntimeWarning: divide by zero encountered in log2\n",
            "  result = func(self.values, **kwargs)\n"
          ]
        },
        {
          "output_type": "execute_result",
          "data": {
            "text/plain": [
              "-0.16666666666666666"
            ]
          },
          "metadata": {},
          "execution_count": 12
        }
      ],
      "source": [
        "#VNE value at Shannon Entropy Max: all amino acids at frequency 0.05\n",
        "omega = B50 * max_freq\n",
        "ent = -(omega * np.log2(omega))\n",
        "\n",
        "#Pairwise similarity maximum for two allele locus (C,E)\n",
        "(1/B50.loc['C','E']) * 0.5"
      ]
    },
    {
      "cell_type": "code",
      "execution_count": null,
      "metadata": {
        "id": "8dnxYwuYu9hF",
        "colab": {
          "base_uri": "https://localhost:8080/"
        },
        "outputId": "c89f6f76-295b-47a2-f588-cc9031b0191b"
      },
      "outputs": [
        {
          "output_type": "stream",
          "name": "stderr",
          "text": [
            "<ipython-input-13-e86d5f97cc25>:4: RuntimeWarning: divide by zero encountered in log2\n",
            "  ent = -(omega * np.log2(omega))\n",
            "<ipython-input-13-e86d5f97cc25>:4: RuntimeWarning: invalid value encountered in multiply\n",
            "  ent = -(omega * np.log2(omega))\n"
          ]
        }
      ],
      "source": [
        "#VNE maximum at two allele locus (C,W)\n",
        "max_vne = np.array([[0.090909,0],[0,0.07878788]])\n",
        "omega = max_vne * np.array([[0.5,0],[0,0.5]])\n",
        "ent = -(omega * np.log2(omega))"
      ]
    },
    {
      "cell_type": "code",
      "execution_count": null,
      "metadata": {
        "id": "xqVKNOBYu9hG"
      },
      "outputs": [],
      "source": [
        "data_list = glob.glob(\"FILE.fasta\")\n",
        "\n",
        "#if alignment needed: AlignIO.read(\"./HIV-1_rev_mafft.fas\",'fasta')"
      ]
    },
    {
      "cell_type": "code",
      "execution_count": null,
      "metadata": {
        "id": "WP6HZ_2pu9hG"
      },
      "outputs": [],
      "source": [
        "#calculate the diversity measures\n",
        "for currentfile in data_list:\n",
        "    data = AlignIO.read(currentfile,'fasta')\n",
        "    print(\"{} measures:\".format(currentfile))\n",
        "\n",
        "\n",
        "    num_samples = len(data)\n",
        "    ungapped_sites = 0\n",
        "\n",
        "    shannon = 0\n",
        "\n",
        "    #get diversity meaasure(s) for ungapped sites\n",
        "    for i in range(len(data[0,:])):\n",
        "\n",
        "\n",
        "        column = data[:,i]\n",
        "        if '-' not in column:\n",
        "\n",
        "            shannon += shannon_info(column)\n",
        "\n",
        "\n",
        "    print(\"shannon-entropy: {:.4}\".format(shannon/(i+1)))"
      ]
    }
  ],
  "metadata": {
    "kernelspec": {
      "display_name": "AADiversity",
      "language": "python",
      "name": "aadiversity"
    },
    "language_info": {
      "codemirror_mode": {
        "name": "ipython",
        "version": 3
      },
      "file_extension": ".py",
      "mimetype": "text/x-python",
      "name": "python",
      "nbconvert_exporter": "python",
      "pygments_lexer": "ipython3",
      "version": "3.9.7"
    },
    "colab": {
      "provenance": []
    }
  },
  "nbformat": 4,
  "nbformat_minor": 0
}